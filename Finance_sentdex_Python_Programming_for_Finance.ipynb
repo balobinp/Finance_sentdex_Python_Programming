{
 "cells": [
  {
   "cell_type": "markdown",
   "metadata": {},
   "source": [
    "## Python Programming for Finance\n",
    "Материал из лекций \"Intro and Getting Stock Price Data - Python Programming for Finance\" от sentdex\n",
    " https://www.youtube.com/watch?v=2BrpKpWwT2A&list=PLQVvvaa0QuDcOdF96TBtRtuQksErCEBYZ\n",
    "\n",
    "(Intro and Getting Stock Price Data - Python Programming for Finance p.1)"
   ]
  },
  {
   "cell_type": "code",
   "execution_count": 8,
   "metadata": {
    "collapsed": true
   },
   "outputs": [],
   "source": [
    "import matplotlib.pyplot as plt\n",
    "from matplotlib import style\n",
    "from matplotlib.finance import candlestick_ohlc\n",
    "#from matplotlib.mpl_finance import candlestick_ohlc\n",
    "import  matplotlib.dates as mdates\n",
    "import pandas as pd\n",
    "import numpy as np\n",
    "import datetime as dt\n",
    "import os\n",
    "import pandas_datareader.data as web\n",
    "#import beautifulsoup4\n",
    "\n",
    "style.use('ggplot')\n",
    "start=dt.datetime(2000,1,1)\n",
    "end=dt.datetime(2016,12,31)"
   ]
  },
  {
   "cell_type": "code",
   "execution_count": 9,
   "metadata": {
    "collapsed": true,
    "scrolled": true
   },
   "outputs": [],
   "source": [
    "df=web.DataReader('TSLA','yahoo',start,end)"
   ]
  },
  {
   "cell_type": "code",
   "execution_count": 10,
   "metadata": {},
   "outputs": [
    {
     "data": {
      "text/html": [
       "<div>\n",
       "<style scoped>\n",
       "    .dataframe tbody tr th:only-of-type {\n",
       "        vertical-align: middle;\n",
       "    }\n",
       "\n",
       "    .dataframe tbody tr th {\n",
       "        vertical-align: top;\n",
       "    }\n",
       "\n",
       "    .dataframe thead th {\n",
       "        text-align: right;\n",
       "    }\n",
       "</style>\n",
       "<table border=\"1\" class=\"dataframe\">\n",
       "  <thead>\n",
       "    <tr style=\"text-align: right;\">\n",
       "      <th></th>\n",
       "      <th>Open</th>\n",
       "      <th>High</th>\n",
       "      <th>Low</th>\n",
       "      <th>Close</th>\n",
       "      <th>Adj Close</th>\n",
       "      <th>Volume</th>\n",
       "    </tr>\n",
       "    <tr>\n",
       "      <th>Date</th>\n",
       "      <th></th>\n",
       "      <th></th>\n",
       "      <th></th>\n",
       "      <th></th>\n",
       "      <th></th>\n",
       "      <th></th>\n",
       "    </tr>\n",
       "  </thead>\n",
       "  <tbody>\n",
       "    <tr>\n",
       "      <th>2016-12-23</th>\n",
       "      <td>208.000000</td>\n",
       "      <td>213.449997</td>\n",
       "      <td>207.710007</td>\n",
       "      <td>213.339996</td>\n",
       "      <td>213.339996</td>\n",
       "      <td>4662900</td>\n",
       "    </tr>\n",
       "    <tr>\n",
       "      <th>2016-12-27</th>\n",
       "      <td>214.880005</td>\n",
       "      <td>222.250000</td>\n",
       "      <td>214.419998</td>\n",
       "      <td>219.529999</td>\n",
       "      <td>219.529999</td>\n",
       "      <td>5915700</td>\n",
       "    </tr>\n",
       "    <tr>\n",
       "      <th>2016-12-28</th>\n",
       "      <td>221.529999</td>\n",
       "      <td>223.800003</td>\n",
       "      <td>217.199997</td>\n",
       "      <td>219.740005</td>\n",
       "      <td>219.740005</td>\n",
       "      <td>3782500</td>\n",
       "    </tr>\n",
       "    <tr>\n",
       "      <th>2016-12-29</th>\n",
       "      <td>218.559998</td>\n",
       "      <td>219.199997</td>\n",
       "      <td>214.119995</td>\n",
       "      <td>214.679993</td>\n",
       "      <td>214.679993</td>\n",
       "      <td>4035900</td>\n",
       "    </tr>\n",
       "    <tr>\n",
       "      <th>2016-12-30</th>\n",
       "      <td>216.300003</td>\n",
       "      <td>217.500000</td>\n",
       "      <td>211.679993</td>\n",
       "      <td>213.690002</td>\n",
       "      <td>213.690002</td>\n",
       "      <td>4642600</td>\n",
       "    </tr>\n",
       "  </tbody>\n",
       "</table>\n",
       "</div>"
      ],
      "text/plain": [
       "                  Open        High         Low       Close   Adj Close  \\\n",
       "Date                                                                     \n",
       "2016-12-23  208.000000  213.449997  207.710007  213.339996  213.339996   \n",
       "2016-12-27  214.880005  222.250000  214.419998  219.529999  219.529999   \n",
       "2016-12-28  221.529999  223.800003  217.199997  219.740005  219.740005   \n",
       "2016-12-29  218.559998  219.199997  214.119995  214.679993  214.679993   \n",
       "2016-12-30  216.300003  217.500000  211.679993  213.690002  213.690002   \n",
       "\n",
       "             Volume  \n",
       "Date                 \n",
       "2016-12-23  4662900  \n",
       "2016-12-27  5915700  \n",
       "2016-12-28  3782500  \n",
       "2016-12-29  4035900  \n",
       "2016-12-30  4642600  "
      ]
     },
     "execution_count": 10,
     "metadata": {},
     "output_type": "execute_result"
    }
   ],
   "source": [
    "df.tail()"
   ]
  },
  {
   "cell_type": "code",
   "execution_count": 11,
   "metadata": {
    "collapsed": true
   },
   "outputs": [],
   "source": [
    "df.to_csv('tesla.csv')"
   ]
  },
  {
   "cell_type": "code",
   "execution_count": 12,
   "metadata": {
    "collapsed": true
   },
   "outputs": [],
   "source": [
    "df=pd.read_csv('tesla.csv',parse_dates=True,index_col=0)"
   ]
  },
  {
   "cell_type": "code",
   "execution_count": 13,
   "metadata": {},
   "outputs": [
    {
     "data": {
      "image/png": "[encoded data removed]",
      "text/plain": [
       "<matplotlib.figure.Figure at 0x1fc25e00e10>"
      ]
     },
     "metadata": {},
     "output_type": "display_data"
    }
   ],
   "source": [
    "df['Adj Close'].plot()\n",
    "plt.show()"
   ]
  },
  {
   "cell_type": "markdown",
   "metadata": {},
   "source": [
    "### Создаем 100-дневную скользящую среднюю\n",
    "(Basic Stock data Manipulation - Python Programming for Finance p.3)"
   ]
  },
  {
   "cell_type": "code",
   "execution_count": 14,
   "metadata": {
    "collapsed": true
   },
   "outputs": [],
   "source": [
    "df['100ma']=df['Adj Close'].rolling(window=100,min_periods=0).mean()\n",
    "#min_periods=0 - Начинаем рассчитывать с первого значения таблицы. Если не указывать этот параметр\n",
    "#то в первых 99 полях будет значение NaN и придется обнулять:\n",
    "#df.dropna(inplace=True)"
   ]
  },
  {
   "cell_type": "code",
   "execution_count": 15,
   "metadata": {},
   "outputs": [
    {
     "data": {
      "text/html": [
       "<div>\n",
       "<style scoped>\n",
       "    .dataframe tbody tr th:only-of-type {\n",
       "        vertical-align: middle;\n",
       "    }\n",
       "\n",
       "    .dataframe tbody tr th {\n",
       "        vertical-align: top;\n",
       "    }\n",
       "\n",
       "    .dataframe thead th {\n",
       "        text-align: right;\n",
       "    }\n",
       "</style>\n",
       "<table border=\"1\" class=\"dataframe\">\n",
       "  <thead>\n",
       "    <tr style=\"text-align: right;\">\n",
       "      <th></th>\n",
       "      <th>Open</th>\n",
       "      <th>High</th>\n",
       "      <th>Low</th>\n",
       "      <th>Close</th>\n",
       "      <th>Adj Close</th>\n",
       "      <th>Volume</th>\n",
       "      <th>100ma</th>\n",
       "    </tr>\n",
       "    <tr>\n",
       "      <th>Date</th>\n",
       "      <th></th>\n",
       "      <th></th>\n",
       "      <th></th>\n",
       "      <th></th>\n",
       "      <th></th>\n",
       "      <th></th>\n",
       "      <th></th>\n",
       "    </tr>\n",
       "  </thead>\n",
       "  <tbody>\n",
       "    <tr>\n",
       "      <th>2016-12-23</th>\n",
       "      <td>208.000000</td>\n",
       "      <td>213.449997</td>\n",
       "      <td>207.710007</td>\n",
       "      <td>213.339996</td>\n",
       "      <td>213.339996</td>\n",
       "      <td>4662900</td>\n",
       "      <td>202.6190</td>\n",
       "    </tr>\n",
       "    <tr>\n",
       "      <th>2016-12-27</th>\n",
       "      <td>214.880005</td>\n",
       "      <td>222.250000</td>\n",
       "      <td>214.419998</td>\n",
       "      <td>219.529999</td>\n",
       "      <td>219.529999</td>\n",
       "      <td>5915700</td>\n",
       "      <td>202.5082</td>\n",
       "    </tr>\n",
       "    <tr>\n",
       "      <th>2016-12-28</th>\n",
       "      <td>221.529999</td>\n",
       "      <td>223.800003</td>\n",
       "      <td>217.199997</td>\n",
       "      <td>219.740005</td>\n",
       "      <td>219.740005</td>\n",
       "      <td>3782500</td>\n",
       "      <td>202.4053</td>\n",
       "    </tr>\n",
       "    <tr>\n",
       "      <th>2016-12-29</th>\n",
       "      <td>218.559998</td>\n",
       "      <td>219.199997</td>\n",
       "      <td>214.119995</td>\n",
       "      <td>214.679993</td>\n",
       "      <td>214.679993</td>\n",
       "      <td>4035900</td>\n",
       "      <td>202.2905</td>\n",
       "    </tr>\n",
       "    <tr>\n",
       "      <th>2016-12-30</th>\n",
       "      <td>216.300003</td>\n",
       "      <td>217.500000</td>\n",
       "      <td>211.679993</td>\n",
       "      <td>213.690002</td>\n",
       "      <td>213.690002</td>\n",
       "      <td>4642600</td>\n",
       "      <td>202.1366</td>\n",
       "    </tr>\n",
       "  </tbody>\n",
       "</table>\n",
       "</div>"
      ],
      "text/plain": [
       "                  Open        High         Low       Close   Adj Close  \\\n",
       "Date                                                                     \n",
       "2016-12-23  208.000000  213.449997  207.710007  213.339996  213.339996   \n",
       "2016-12-27  214.880005  222.250000  214.419998  219.529999  219.529999   \n",
       "2016-12-28  221.529999  223.800003  217.199997  219.740005  219.740005   \n",
       "2016-12-29  218.559998  219.199997  214.119995  214.679993  214.679993   \n",
       "2016-12-30  216.300003  217.500000  211.679993  213.690002  213.690002   \n",
       "\n",
       "             Volume     100ma  \n",
       "Date                           \n",
       "2016-12-23  4662900  202.6190  \n",
       "2016-12-27  5915700  202.5082  \n",
       "2016-12-28  3782500  202.4053  \n",
       "2016-12-29  4035900  202.2905  \n",
       "2016-12-30  4642600  202.1366  "
      ]
     },
     "execution_count": 15,
     "metadata": {},
     "output_type": "execute_result"
    }
   ],
   "source": [
    "df.tail()"
   ]
  },
  {
   "cell_type": "code",
   "execution_count": 16,
   "metadata": {},
   "outputs": [
    {
     "data": {
      "image/png": "[encoded data removed]",
      "text/plain": [
       "<matplotlib.figure.Figure at 0x1fc215a64a8>"
      ]
     },
     "metadata": {},
     "output_type": "display_data"
    }
   ],
   "source": [
    "ax1=plt.subplot2grid((6,1),(0,0),rowspan=5,colspan=1)\n",
    "ax2=plt.subplot2grid((6,1),(5,0),rowspan=1,colspan=1,sharex=ax1)\n",
    "ax1.plot(df.index,df['Adj Close'])\n",
    "ax1.plot(df.index,df['100ma'])\n",
    "ax2.bar(df.index,df['Volume'])\n",
    "plt.show()"
   ]
  },
  {
   "cell_type": "markdown",
   "metadata": {},
   "source": [
    "## Делаем resample и готовим данные для построения графика свечей\n",
    "(More stock manipulations - Python Programming for Finance p.4)"
   ]
  },
  {
   "cell_type": "code",
   "execution_count": 17,
   "metadata": {
    "collapsed": true
   },
   "outputs": [],
   "source": [
    "df_ohlc = df['Adj Close'].resample('10D').ohlc()\n",
    "df_volume = df['Volume'].resample('10D').sum()"
   ]
  },
  {
   "cell_type": "code",
   "execution_count": 18,
   "metadata": {
    "collapsed": true
   },
   "outputs": [],
   "source": [
    "#Меняем индекс с метки времени на обычный порядковый\n",
    "df_ohlc.reset_index(inplace=True)"
   ]
  },
  {
   "cell_type": "code",
   "execution_count": 19,
   "metadata": {
    "collapsed": true
   },
   "outputs": [],
   "source": [
    "#Преобразуем время в mdates формат (типа unixtimestamp) для использования в matplotlib.finance.candelstick_ohlc\n",
    "df_ohlc['Date'] = df_ohlc['Date'].map(mdates.date2num)"
   ]
  },
  {
   "cell_type": "code",
   "execution_count": 20,
   "metadata": {},
   "outputs": [
    {
     "data": {
      "text/html": [
       "<div>\n",
       "<style scoped>\n",
       "    .dataframe tbody tr th:only-of-type {\n",
       "        vertical-align: middle;\n",
       "    }\n",
       "\n",
       "    .dataframe tbody tr th {\n",
       "        vertical-align: top;\n",
       "    }\n",
       "\n",
       "    .dataframe thead th {\n",
       "        text-align: right;\n",
       "    }\n",
       "</style>\n",
       "<table border=\"1\" class=\"dataframe\">\n",
       "  <thead>\n",
       "    <tr style=\"text-align: right;\">\n",
       "      <th></th>\n",
       "      <th>Date</th>\n",
       "      <th>open</th>\n",
       "      <th>high</th>\n",
       "      <th>low</th>\n",
       "      <th>close</th>\n",
       "    </tr>\n",
       "  </thead>\n",
       "  <tbody>\n",
       "    <tr>\n",
       "      <th>0</th>\n",
       "      <td>733952.0</td>\n",
       "      <td>23.889999</td>\n",
       "      <td>23.889999</td>\n",
       "      <td>15.800000</td>\n",
       "      <td>17.459999</td>\n",
       "    </tr>\n",
       "    <tr>\n",
       "      <th>1</th>\n",
       "      <td>733962.0</td>\n",
       "      <td>17.400000</td>\n",
       "      <td>20.639999</td>\n",
       "      <td>17.049999</td>\n",
       "      <td>20.639999</td>\n",
       "    </tr>\n",
       "    <tr>\n",
       "      <th>2</th>\n",
       "      <td>733972.0</td>\n",
       "      <td>21.910000</td>\n",
       "      <td>21.910000</td>\n",
       "      <td>20.219999</td>\n",
       "      <td>20.719999</td>\n",
       "    </tr>\n",
       "    <tr>\n",
       "      <th>3</th>\n",
       "      <td>733982.0</td>\n",
       "      <td>20.350000</td>\n",
       "      <td>21.950001</td>\n",
       "      <td>19.590000</td>\n",
       "      <td>19.590000</td>\n",
       "    </tr>\n",
       "    <tr>\n",
       "      <th>4</th>\n",
       "      <td>733992.0</td>\n",
       "      <td>19.600000</td>\n",
       "      <td>19.600000</td>\n",
       "      <td>17.600000</td>\n",
       "      <td>19.150000</td>\n",
       "    </tr>\n",
       "  </tbody>\n",
       "</table>\n",
       "</div>"
      ],
      "text/plain": [
       "       Date       open       high        low      close\n",
       "0  733952.0  23.889999  23.889999  15.800000  17.459999\n",
       "1  733962.0  17.400000  20.639999  17.049999  20.639999\n",
       "2  733972.0  21.910000  21.910000  20.219999  20.719999\n",
       "3  733982.0  20.350000  21.950001  19.590000  19.590000\n",
       "4  733992.0  19.600000  19.600000  17.600000  19.150000"
      ]
     },
     "execution_count": 20,
     "metadata": {},
     "output_type": "execute_result"
    }
   ],
   "source": [
    "df_ohlc.head()"
   ]
  },
  {
   "cell_type": "code",
   "execution_count": 21,
   "metadata": {
    "scrolled": true
   },
   "outputs": [
    {
     "data": {
      "image/png": "[encoded data removed]",
      "text/plain": [
       "<matplotlib.figure.Figure at 0x1fc2636b5c0>"
      ]
     },
     "metadata": {},
     "output_type": "display_data"
    }
   ],
   "source": [
    "ax1=plt.subplot2grid((6,1),(0,0),rowspan=5,colspan=1)\n",
    "ax2=plt.subplot2grid((6,1),(5,0),rowspan=1,colspan=1,sharex=ax1)\n",
    "ax1.xaxis_date() #использование mdates.date2num для отображения дат в matplotlib.finance.candlestick_ohlc \n",
    "candlestick_ohlc(ax1, df_ohlc.values, width=2, colorup='g') #Рисуем свечи\n",
    "ax2.fill_between(df_volume.index.map(mdates.date2num), df_volume.values, 0) #Рисуем график объема\n",
    "plt.show()"
   ]
  },
  {
   "cell_type": "code",
   "execution_count": 22,
   "metadata": {
    "scrolled": true
   },
   "outputs": [
    {
     "data": {
      "image/png": "[encoded data removed]",
      "text/plain": [
       "<matplotlib.figure.Figure at 0x1fc26303940>"
      ]
     },
     "metadata": {},
     "output_type": "display_data"
    }
   ],
   "source": [
    "import pandas_datareader as pdr\n",
    "import matplotlib.pyplot as plt\n",
    "from matplotlib.finance import candlestick_ohlc\n",
    "import matplotlib.dates as mdates\n",
    "start=dt.datetime(2015,1,1)\n",
    "end=dt.datetime(2016,12,31)\n",
    "df=web.DataReader('TSLA','yahoo',start,end)\n",
    "df_ohlc=df['Adj Close'].resample('10D').ohlc()\n",
    "df_volume=df['Volume'].resample('10D').sum()\n",
    "df_ohlc.reset_index(inplace=True)\n",
    "df_ohlc['Date'] = df_ohlc['Date'].map(mdates.date2num)\n",
    "ax1=plt.subplot2grid((6,1),(0,0),rowspan=5,colspan=1)\n",
    "ax2=plt.subplot2grid((6,1),(5,0),rowspan=1,colspan=1,sharex=ax1)\n",
    "ax1.xaxis_date() #использование mdates.date2num для отображения дат в matplotlib.finance.candlestick_ohlc \n",
    "candlestick_ohlc(ax1, df_ohlc.values, width=2, colorup='g') #Рисуем свечи\n",
    "ax2.fill_between(df_volume.index.map(mdates.date2num), df_volume.values, 0) #Рисуем график объема\n",
    "plt.show()"
   ]
  },
  {
   "cell_type": "markdown",
   "metadata": {},
   "source": [
    "## Получение списка компаний S&P500\n",
    "(Automating getting the S&P 500 list - Python Programming for Finance p.5)\n",
    "https://www.youtube.com/watch?v=C--57BP79EM&list=PLQVvvaa0QuDcOdF96TBtRtuQksErCEBYZ&index=5"
   ]
  },
  {
   "cell_type": "code",
   "execution_count": 28,
   "metadata": {
    "collapsed": true
   },
   "outputs": [],
   "source": [
    "#conda install beautifulsoup4\n",
    "import bs4 as bs\n",
    "#conda install lxml\n",
    "#import lxml\n",
    "import pickle\n",
    "import requests"
   ]
  },
  {
   "cell_type": "code",
   "execution_count": 34,
   "metadata": {},
   "outputs": [
    {
     "data": {
      "text/plain": [
       "['ABT', 'ABBV', 'ACN']"
      ]
     },
     "execution_count": 34,
     "metadata": {},
     "output_type": "execute_result"
    }
   ],
   "source": [
    "def save_sp500_tickers():\n",
    "    resp = requests.get('https://en.wikipedia.org/wiki/List_of_S%26P_500_companies')\n",
    "    #soup = bs.BeautifulSoup(resp.text, \"lxml\")\n",
    "    soup = bs.BeautifulSoup(resp.text,\"html5lib\")\n",
    "    table = soup.find('table',{'class':'wikitable sortable'})\n",
    "    tickers = []\n",
    "    for row in table.findAll('tr')[1:]:\n",
    "        ticker = row.findAll('td')[0].text\n",
    "        tickers.append(ticker)\n",
    "    with open(\"sp500tickers.pickle\",\"wb\") as f:\n",
    "        pickle.dump(tickers,f)\n",
    "    return tickers[1:4]\n",
    "\n",
    "save_sp500_tickers()"
   ]
  },
  {
   "cell_type": "markdown",
   "metadata": {},
   "source": [
    "## Загрузить данные компаний S&P500\n",
    "Getting all company pricing data in the S&P 500 - Python Programming for Finance p.6 (https://www.youtube.com/watch?v=baCAFPHb1o4&list=PLQVvvaa0QuDcOdF96TBtRtuQksErCEBYZ&index=6)"
   ]
  },
  {
   "cell_type": "code",
   "execution_count": 39,
   "metadata": {},
   "outputs": [
    {
     "name": "stdout",
     "output_type": "stream",
     "text": [
      "MMM\n",
      "Already have MMM\n",
      "ABT\n",
      "Already have ABT\n",
      "ABBV\n",
      "Already have ABBV\n",
      "ACN\n",
      "ATVI\n"
     ]
    }
   ],
   "source": [
    "def get_data_from_yaho(reload_sp500=False):\n",
    "    if reload_sp500:\n",
    "        tickers = save_sp500_tickers()\n",
    "    else:\n",
    "        with open(\"sp500tickers.pickle\",\"rb\") as f:\n",
    "            tickers = pickle.load(f)\n",
    "    if not os.path.exists('stock_dfs'):\n",
    "        os.makedirs('stock_dfs')\n",
    "    start = dt.datetime(2000,1,1)\n",
    "    end = dt.datetime(2016,12,31)\n",
    "    \n",
    "    #for ticker in tickers:\n",
    "    for ticker in tickers[:5]: #Загрузить только 5 компаний\n",
    "        print(ticker)\n",
    "        if not os.path.exists('stock_dfs/{}.csv'.format(ticker)):\n",
    "            df = web.DataReader(ticker,'yahoo',start,end)\n",
    "            df.to_csv('stock_dfs/{}.csv'.format(ticker))\n",
    "        else:\n",
    "            print(\"Already have {}\".format(ticker))\n",
    "            \n",
    "get_data_from_yaho()"
   ]
  },
  {
   "cell_type": "code",
   "execution_count": 40,
   "metadata": {
    "collapsed": true
   },
   "outputs": [],
   "source": [
    "import os\n",
    "if not os.path.exists('test'):\n",
    "    os.makedirs('test')"
   ]
  },
  {
   "cell_type": "markdown",
   "metadata": {},
   "source": [
    "Done:\n",
    "Getting all company pricing data in the S&P 500 - Python Programming for Finance p.6"
   ]
  },
  {
   "cell_type": "markdown",
   "metadata": {},
   "source": [
    "test test"
   ]
  }
 ],
 "metadata": {
  "kernelspec": {
   "display_name": "Python 3",
   "language": "python",
   "name": "python3"
  },
  "language_info": {
   "codemirror_mode": {
    "name": "ipython",
    "version": 3
   },
   "file_extension": ".py",
   "mimetype": "text/x-python",
   "name": "python",
   "nbconvert_exporter": "python",
   "pygments_lexer": "ipython3",
   "version": "3.6.3"
  }
 },
 "nbformat": 4,
 "nbformat_minor": 2
}
